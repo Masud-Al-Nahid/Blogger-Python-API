{
 "cells": [
  {
   "cell_type": "markdown",
   "metadata": {},
   "source": [
    "# Google Blogger API Tutorial"
   ]
  },
  {
   "cell_type": "markdown",
   "metadata": {},
   "source": [
    "## Soumil Nitin Shah \n",
    "Bachelor in Electronic Engineering |\n",
    "Masters in Electrical Engineering | \n",
    "Master in Computer Engineering |\n",
    "\n",
    "* Website : https://soumilshah.herokuapp.com\n",
    "* Github: https://github.com/soumilshah1995\n",
    "* Linkedin: https://www.linkedin.com/in/shah-soumil/\n",
    "* Blog: https://soumilshah1995.blogspot.com/\n",
    "* Youtube : https://www.youtube.com/channel/UC_eOodxvwS_H7x2uLQa-svw?view_as=subscriber\n",
    "* Facebook Page : https://www.facebook.com/soumilshah1995/\n",
    "* Email : shahsoumil519@gmail.com\n",
    "* projects : https://soumilshah.herokuapp.com/project\n",
    "\n",
    "\n",
    "Hello! I’m Soumil Nitin Shah, a Software and Hardware Developer based in New York City. I have completed by Bachelor in Electronic Engineering and my Double master’s in Computer and Electrical Engineering. I Develop Python Based Cross Platform Desktop Application , Webpages , Software, REST API, Database and much more I have more than 2 Years of Experience in Python"
   ]
  },
  {
   "cell_type": "markdown",
   "metadata": {},
   "source": [
    "# Step 1:"
   ]
  },
  {
   "cell_type": "markdown",
   "metadata": {},
   "source": [
    "### Import the  library"
   ]
  },
  {
   "cell_type": "code",
   "execution_count": 3,
   "metadata": {},
   "outputs": [],
   "source": [
    "import requests\n",
    "from apiclient.discovery import build"
   ]
  },
  {
   "cell_type": "markdown",
   "metadata": {},
   "source": [
    "# Step 2: "
   ]
  },
  {
   "cell_type": "markdown",
   "metadata": {},
   "source": [
    "### Get the Google API Key"
   ]
  },
  {
   "cell_type": "code",
   "execution_count": 10,
   "metadata": {},
   "outputs": [],
   "source": [
    "Key = \"YOUR KEY\"\n",
    "BlogId = \"BLOG ID\"\n"
   ]
  },
  {
   "cell_type": "markdown",
   "metadata": {},
   "source": [
    "# Step 3: \n",
    "### Create the Google API Resource Client "
   ]
  },
  {
   "cell_type": "code",
   "execution_count": 5,
   "metadata": {},
   "outputs": [],
   "source": [
    "blog = build('blogger', 'v3', developerKey=Key)"
   ]
  },
  {
   "cell_type": "code",
   "execution_count": 6,
   "metadata": {},
   "outputs": [
    {
     "data": {
      "text/plain": [
       "googleapiclient.discovery.Resource"
      ]
     },
     "execution_count": 6,
     "metadata": {},
     "output_type": "execute_result"
    }
   ],
   "source": [
    "type(blog)"
   ]
  },
  {
   "cell_type": "markdown",
   "metadata": {},
   "source": [
    "### Methods and Attributes \n",
    "\n",
    "Doccumentation :  https://developers.google.com/blogger/docs/3.0/reference/\n",
    "\n",
    "* Blogs\n",
    "* getByUrl\n",
    "* listByUser\n",
    "\n",
    "#### Posts\n",
    "* list\n",
    "\n",
    "-------> blogId  \n",
    "----------------Retrieves a list of posts.\n",
    "\n",
    "\n",
    "\n"
   ]
  },
  {
   "cell_type": "code",
   "execution_count": 13,
   "metadata": {},
   "outputs": [],
   "source": [
    "resp = blog.blogs().get(blogId=BlogId).execute()"
   ]
  },
  {
   "cell_type": "code",
   "execution_count": 18,
   "metadata": {
    "scrolled": false
   },
   "outputs": [
    {
     "data": {
      "text/plain": [
       "{'kind': 'blogger#blog',\n",
       " 'id': '2397361725226431430',\n",
       " 'name': 'Pythonist',\n",
       " 'description': '',\n",
       " 'published': '2019-03-30T18:37:09-07:00',\n",
       " 'updated': '2019-07-28T08:14:40-07:00',\n",
       " 'url': 'http://soumilshah1995.blogspot.com/',\n",
       " 'selfLink': 'https://www.googleapis.com/blogger/v3/blogs/2397361725226431430',\n",
       " 'posts': {'totalItems': 38,\n",
       "  'selfLink': 'https://www.googleapis.com/blogger/v3/blogs/2397361725226431430/posts'},\n",
       " 'pages': {'totalItems': 0,\n",
       "  'selfLink': 'https://www.googleapis.com/blogger/v3/blogs/2397361725226431430/pages'},\n",
       " 'locale': {'language': 'en', 'country': '', 'variant': ''}}"
      ]
     },
     "execution_count": 18,
     "metadata": {},
     "output_type": "execute_result"
    }
   ],
   "source": [
    "resp"
   ]
  },
  {
   "cell_type": "markdown",
   "metadata": {},
   "source": [
    "# Post"
   ]
  },
  {
   "cell_type": "code",
   "execution_count": 54,
   "metadata": {},
   "outputs": [
    {
     "data": {
      "text/plain": [
       "{'kind': 'blogger#blog',\n",
       " 'id': '2397361725226431430',\n",
       " 'name': 'Pythonist',\n",
       " 'description': '',\n",
       " 'published': '2019-03-30T18:37:09-07:00',\n",
       " 'updated': '2019-07-28T08:14:40-07:00',\n",
       " 'url': 'http://soumilshah1995.blogspot.com/',\n",
       " 'selfLink': 'https://www.googleapis.com/blogger/v3/blogs/2397361725226431430',\n",
       " 'posts': {'totalItems': 38,\n",
       "  'selfLink': 'https://www.googleapis.com/blogger/v3/blogs/2397361725226431430/posts'},\n",
       " 'pages': {'totalItems': 0,\n",
       "  'selfLink': 'https://www.googleapis.com/blogger/v3/blogs/2397361725226431430/pages'},\n",
       " 'locale': {'language': 'en', 'country': '', 'variant': ''}}"
      ]
     },
     "execution_count": 54,
     "metadata": {},
     "output_type": "execute_result"
    }
   ],
   "source": [
    "resp = blog.blogs().getByUrl(url=\"https://soumilshah1995.blogspot.com\").execute()\n",
    "resp"
   ]
  },
  {
   "cell_type": "code",
   "execution_count": 49,
   "metadata": {},
   "outputs": [],
   "source": [
    "def getBlog():\n",
    "    \n",
    "    title = []\n",
    "    url = []\n",
    "    NextPage = None\n",
    "    counter = 0 \n",
    "    \n",
    "    while True:\n",
    "        \n",
    "        resp = blog.posts().list(blogId=BlogId,\n",
    "                                 maxResults = 1,\n",
    "                                pageToken = NextPage ).execute()\n",
    "        try:\n",
    "\n",
    "            title.append(resp[\"items\"][0][\"title\"])\n",
    "            url.append(resp[\"items\"][0][\"url\"])\n",
    "        except KeyError:\n",
    "            break\n",
    "        NextPage = resp.get(\"nextPageToken\", None)\n",
    "        counter = counter + 1\n",
    "        if NextPage is None:\n",
    "            break\n",
    "    return title, url\n",
    "\n",
    "\n",
    "title, url = getBlog()"
   ]
  },
  {
   "cell_type": "code",
   "execution_count": 52,
   "metadata": {},
   "outputs": [
    {
     "data": {
      "text/html": [
       "<div>\n",
       "<style scoped>\n",
       "    .dataframe tbody tr th:only-of-type {\n",
       "        vertical-align: middle;\n",
       "    }\n",
       "\n",
       "    .dataframe tbody tr th {\n",
       "        vertical-align: top;\n",
       "    }\n",
       "\n",
       "    .dataframe thead th {\n",
       "        text-align: right;\n",
       "    }\n",
       "</style>\n",
       "<table border=\"1\" class=\"dataframe\">\n",
       "  <thead>\n",
       "    <tr style=\"text-align: right;\">\n",
       "      <th></th>\n",
       "      <th>title</th>\n",
       "      <th>url</th>\n",
       "    </tr>\n",
       "  </thead>\n",
       "  <tbody>\n",
       "    <tr>\n",
       "      <th>0</th>\n",
       "      <td>Run Multiple Sci Kit Model in one Go</td>\n",
       "      <td>http://soumilshah1995.blogspot.com/2019/07/run...</td>\n",
       "    </tr>\n",
       "    <tr>\n",
       "      <th>1</th>\n",
       "      <td>Support Vector in scikit a Pythonic Way [Objec...</td>\n",
       "      <td>http://soumilshah1995.blogspot.com/2019/07/sup...</td>\n",
       "    </tr>\n",
       "    <tr>\n",
       "      <th>2</th>\n",
       "      <td>Random Forest and decision Tree the Pythonic way</td>\n",
       "      <td>http://soumilshah1995.blogspot.com/2019/07/ran...</td>\n",
       "    </tr>\n",
       "    <tr>\n",
       "      <th>3</th>\n",
       "      <td>KNN SCI Kit Learn Tutorial</td>\n",
       "      <td>http://soumilshah1995.blogspot.com/2019/07/knn...</td>\n",
       "    </tr>\n",
       "    <tr>\n",
       "      <th>4</th>\n",
       "      <td>Pythonic Way for Logistic Regression Tutorial ...</td>\n",
       "      <td>http://soumilshah1995.blogspot.com/2019/07/pyt...</td>\n",
       "    </tr>\n",
       "    <tr>\n",
       "      <th>5</th>\n",
       "      <td>Linear Regression in Depth Tutorial with Soumi...</td>\n",
       "      <td>http://soumilshah1995.blogspot.com/2019/07/lin...</td>\n",
       "    </tr>\n",
       "    <tr>\n",
       "      <th>6</th>\n",
       "      <td>Data Analysis Over 10 years of hourly energy c...</td>\n",
       "      <td>http://soumilshah1995.blogspot.com/2019/07/dat...</td>\n",
       "    </tr>\n",
       "    <tr>\n",
       "      <th>7</th>\n",
       "      <td>Python Library to download all youtube videos ...</td>\n",
       "      <td>http://soumilshah1995.blogspot.com/2019/07/pyt...</td>\n",
       "    </tr>\n",
       "    <tr>\n",
       "      <th>8</th>\n",
       "      <td>Deep CNN using Low level Graph API</td>\n",
       "      <td>http://soumilshah1995.blogspot.com/2019/06/dee...</td>\n",
       "    </tr>\n",
       "    <tr>\n",
       "      <th>9</th>\n",
       "      <td>Tensor Flow on IRIS Data set which Optimizer w...</td>\n",
       "      <td>http://soumilshah1995.blogspot.com/2019/06/ten...</td>\n",
       "    </tr>\n",
       "    <tr>\n",
       "      <th>10</th>\n",
       "      <td>Weather Logger Bot with Python (WebScrapping/ ...</td>\n",
       "      <td>http://soumilshah1995.blogspot.com/2019/05/wea...</td>\n",
       "    </tr>\n",
       "    <tr>\n",
       "      <th>11</th>\n",
       "      <td>Smart Library for Classification Problems Clea...</td>\n",
       "      <td>http://soumilshah1995.blogspot.com/2019/05/sma...</td>\n",
       "    </tr>\n",
       "    <tr>\n",
       "      <th>12</th>\n",
       "      <td></td>\n",
       "      <td>http://soumilshah1995.blogspot.com/2019/05/sma...</td>\n",
       "    </tr>\n",
       "    <tr>\n",
       "      <th>13</th>\n",
       "      <td>5 Steps DNN Model for Diabetes Dataset ACC 78%</td>\n",
       "      <td>http://soumilshah1995.blogspot.com/2019/05/5-s...</td>\n",
       "    </tr>\n",
       "    <tr>\n",
       "      <th>14</th>\n",
       "      <td>Neural Network for Pneumonia Detection Chest X...</td>\n",
       "      <td>http://soumilshah1995.blogspot.com/2019/05/neu...</td>\n",
       "    </tr>\n",
       "    <tr>\n",
       "      <th>15</th>\n",
       "      <td>Neural Network Keras identifies a cat and Dog ...</td>\n",
       "      <td>http://soumilshah1995.blogspot.com/2019/05/neu...</td>\n",
       "    </tr>\n",
       "    <tr>\n",
       "      <th>16</th>\n",
       "      <td>Keras Implementation of Diabetes Dataset Tenso...</td>\n",
       "      <td>http://soumilshah1995.blogspot.com/2019/05/ker...</td>\n",
       "    </tr>\n",
       "    <tr>\n",
       "      <th>17</th>\n",
       "      <td>Create a Linear Classifier Model in 5 Steps us...</td>\n",
       "      <td>http://soumilshah1995.blogspot.com/2019/05/cre...</td>\n",
       "    </tr>\n",
       "    <tr>\n",
       "      <th>18</th>\n",
       "      <td>Object Oriented Code for Tensorflow Machine Le...</td>\n",
       "      <td>http://soumilshah1995.blogspot.com/2019/05/obj...</td>\n",
       "    </tr>\n",
       "    <tr>\n",
       "      <th>19</th>\n",
       "      <td>Machine Learning Model for Wine DataSet</td>\n",
       "      <td>http://soumilshah1995.blogspot.com/2019/05/mac...</td>\n",
       "    </tr>\n",
       "    <tr>\n",
       "      <th>20</th>\n",
       "      <td>Machine Learning Predict Whether Patient Suffe...</td>\n",
       "      <td>http://soumilshah1995.blogspot.com/2019/05/mac...</td>\n",
       "    </tr>\n",
       "    <tr>\n",
       "      <th>21</th>\n",
       "      <td>Smart Library for Getting Weather Details for ...</td>\n",
       "      <td>http://soumilshah1995.blogspot.com/2019/05/sma...</td>\n",
       "    </tr>\n",
       "    <tr>\n",
       "      <th>22</th>\n",
       "      <td>Smart Proxy library to get random proxy using ...</td>\n",
       "      <td>http://soumilshah1995.blogspot.com/2019/05/sma...</td>\n",
       "    </tr>\n",
       "    <tr>\n",
       "      <th>23</th>\n",
       "      <td>Developing a code which can get Proxy from dif...</td>\n",
       "      <td>http://soumilshah1995.blogspot.com/2019/05/dev...</td>\n",
       "    </tr>\n",
       "    <tr>\n",
       "      <th>24</th>\n",
       "      <td>Python Based LDR DataLogger Tutorials</td>\n",
       "      <td>http://soumilshah1995.blogspot.com/2019/05/pyt...</td>\n",
       "    </tr>\n",
       "    <tr>\n",
       "      <th>25</th>\n",
       "      <td>Getting Started with Twilio and Raspberry pi f...</td>\n",
       "      <td>http://soumilshah1995.blogspot.com/2019/05/get...</td>\n",
       "    </tr>\n",
       "    <tr>\n",
       "      <th>26</th>\n",
       "      <td>Upload any Sensor data to ThingSpeak using Ras...</td>\n",
       "      <td>http://soumilshah1995.blogspot.com/2019/04/upl...</td>\n",
       "    </tr>\n",
       "    <tr>\n",
       "      <th>27</th>\n",
       "      <td>Getting Started with Database SQLIte3 python a...</td>\n",
       "      <td>http://soumilshah1995.blogspot.com/2019/04/get...</td>\n",
       "    </tr>\n",
       "    <tr>\n",
       "      <th>28</th>\n",
       "      <td>Getting Started with Tkinter Python and Raspbe...</td>\n",
       "      <td>http://soumilshah1995.blogspot.com/2019/04/get...</td>\n",
       "    </tr>\n",
       "    <tr>\n",
       "      <th>29</th>\n",
       "      <td>Flowing LED Lights Raspberry Pi Experiments Py...</td>\n",
       "      <td>http://soumilshah1995.blogspot.com/2019/04/flo...</td>\n",
       "    </tr>\n",
       "    <tr>\n",
       "      <th>30</th>\n",
       "      <td>CONFIGURING GPIO PINS AS OUTPUTS - BLINKING LED</td>\n",
       "      <td>http://soumilshah1995.blogspot.com/2019/04/con...</td>\n",
       "    </tr>\n",
       "    <tr>\n",
       "      <th>31</th>\n",
       "      <td>LED Fade Using Pulse Width Modulation using Ra...</td>\n",
       "      <td>http://soumilshah1995.blogspot.com/2019/04/led...</td>\n",
       "    </tr>\n",
       "    <tr>\n",
       "      <th>32</th>\n",
       "      <td>Getting started with Raspberry pi Setup and in...</td>\n",
       "      <td>http://soumilshah1995.blogspot.com/2019/04/get...</td>\n",
       "    </tr>\n",
       "    <tr>\n",
       "      <th>33</th>\n",
       "      <td>Server and Client Send Actual Sensor Data over...</td>\n",
       "      <td>http://soumilshah1995.blogspot.com/2019/04/ser...</td>\n",
       "    </tr>\n",
       "    <tr>\n",
       "      <th>34</th>\n",
       "      <td>HTML CSS Frontend Flask Python BackEnd connect...</td>\n",
       "      <td>http://soumilshah1995.blogspot.com/2019/04/htm...</td>\n",
       "    </tr>\n",
       "    <tr>\n",
       "      <th>35</th>\n",
       "      <td>Python proxy with request Library to hide your...</td>\n",
       "      <td>http://soumilshah1995.blogspot.com/2019/04/pyt...</td>\n",
       "    </tr>\n",
       "    <tr>\n",
       "      <th>36</th>\n",
       "      <td>Batch Normalization Adam Optimizer and L2 reg ...</td>\n",
       "      <td>http://soumilshah1995.blogspot.com/2019/04/bat...</td>\n",
       "    </tr>\n",
       "    <tr>\n",
       "      <th>37</th>\n",
       "      <td>IoT Master Library for Arduino and Raspberry Pi</td>\n",
       "      <td>http://soumilshah1995.blogspot.com/2019/03/iot...</td>\n",
       "    </tr>\n",
       "  </tbody>\n",
       "</table>\n",
       "</div>"
      ],
      "text/plain": [
       "                                                title  \\\n",
       "0               Run Multiple Sci Kit Model in one Go    \n",
       "1   Support Vector in scikit a Pythonic Way [Objec...   \n",
       "2    Random Forest and decision Tree the Pythonic way   \n",
       "3                          KNN SCI Kit Learn Tutorial   \n",
       "4   Pythonic Way for Logistic Regression Tutorial ...   \n",
       "5   Linear Regression in Depth Tutorial with Soumi...   \n",
       "6   Data Analysis Over 10 years of hourly energy c...   \n",
       "7   Python Library to download all youtube videos ...   \n",
       "8                  Deep CNN using Low level Graph API   \n",
       "9   Tensor Flow on IRIS Data set which Optimizer w...   \n",
       "10  Weather Logger Bot with Python (WebScrapping/ ...   \n",
       "11  Smart Library for Classification Problems Clea...   \n",
       "12                                                      \n",
       "13     5 Steps DNN Model for Diabetes Dataset ACC 78%   \n",
       "14  Neural Network for Pneumonia Detection Chest X...   \n",
       "15  Neural Network Keras identifies a cat and Dog ...   \n",
       "16  Keras Implementation of Diabetes Dataset Tenso...   \n",
       "17  Create a Linear Classifier Model in 5 Steps us...   \n",
       "18  Object Oriented Code for Tensorflow Machine Le...   \n",
       "19            Machine Learning Model for Wine DataSet   \n",
       "20  Machine Learning Predict Whether Patient Suffe...   \n",
       "21  Smart Library for Getting Weather Details for ...   \n",
       "22  Smart Proxy library to get random proxy using ...   \n",
       "23  Developing a code which can get Proxy from dif...   \n",
       "24             Python Based LDR DataLogger Tutorials    \n",
       "25  Getting Started with Twilio and Raspberry pi f...   \n",
       "26  Upload any Sensor data to ThingSpeak using Ras...   \n",
       "27  Getting Started with Database SQLIte3 python a...   \n",
       "28  Getting Started with Tkinter Python and Raspbe...   \n",
       "29  Flowing LED Lights Raspberry Pi Experiments Py...   \n",
       "30    CONFIGURING GPIO PINS AS OUTPUTS - BLINKING LED   \n",
       "31  LED Fade Using Pulse Width Modulation using Ra...   \n",
       "32  Getting started with Raspberry pi Setup and in...   \n",
       "33  Server and Client Send Actual Sensor Data over...   \n",
       "34  HTML CSS Frontend Flask Python BackEnd connect...   \n",
       "35  Python proxy with request Library to hide your...   \n",
       "36  Batch Normalization Adam Optimizer and L2 reg ...   \n",
       "37    IoT Master Library for Arduino and Raspberry Pi   \n",
       "\n",
       "                                                  url  \n",
       "0   http://soumilshah1995.blogspot.com/2019/07/run...  \n",
       "1   http://soumilshah1995.blogspot.com/2019/07/sup...  \n",
       "2   http://soumilshah1995.blogspot.com/2019/07/ran...  \n",
       "3   http://soumilshah1995.blogspot.com/2019/07/knn...  \n",
       "4   http://soumilshah1995.blogspot.com/2019/07/pyt...  \n",
       "5   http://soumilshah1995.blogspot.com/2019/07/lin...  \n",
       "6   http://soumilshah1995.blogspot.com/2019/07/dat...  \n",
       "7   http://soumilshah1995.blogspot.com/2019/07/pyt...  \n",
       "8   http://soumilshah1995.blogspot.com/2019/06/dee...  \n",
       "9   http://soumilshah1995.blogspot.com/2019/06/ten...  \n",
       "10  http://soumilshah1995.blogspot.com/2019/05/wea...  \n",
       "11  http://soumilshah1995.blogspot.com/2019/05/sma...  \n",
       "12  http://soumilshah1995.blogspot.com/2019/05/sma...  \n",
       "13  http://soumilshah1995.blogspot.com/2019/05/5-s...  \n",
       "14  http://soumilshah1995.blogspot.com/2019/05/neu...  \n",
       "15  http://soumilshah1995.blogspot.com/2019/05/neu...  \n",
       "16  http://soumilshah1995.blogspot.com/2019/05/ker...  \n",
       "17  http://soumilshah1995.blogspot.com/2019/05/cre...  \n",
       "18  http://soumilshah1995.blogspot.com/2019/05/obj...  \n",
       "19  http://soumilshah1995.blogspot.com/2019/05/mac...  \n",
       "20  http://soumilshah1995.blogspot.com/2019/05/mac...  \n",
       "21  http://soumilshah1995.blogspot.com/2019/05/sma...  \n",
       "22  http://soumilshah1995.blogspot.com/2019/05/sma...  \n",
       "23  http://soumilshah1995.blogspot.com/2019/05/dev...  \n",
       "24  http://soumilshah1995.blogspot.com/2019/05/pyt...  \n",
       "25  http://soumilshah1995.blogspot.com/2019/05/get...  \n",
       "26  http://soumilshah1995.blogspot.com/2019/04/upl...  \n",
       "27  http://soumilshah1995.blogspot.com/2019/04/get...  \n",
       "28  http://soumilshah1995.blogspot.com/2019/04/get...  \n",
       "29  http://soumilshah1995.blogspot.com/2019/04/flo...  \n",
       "30  http://soumilshah1995.blogspot.com/2019/04/con...  \n",
       "31  http://soumilshah1995.blogspot.com/2019/04/led...  \n",
       "32  http://soumilshah1995.blogspot.com/2019/04/get...  \n",
       "33  http://soumilshah1995.blogspot.com/2019/04/ser...  \n",
       "34  http://soumilshah1995.blogspot.com/2019/04/htm...  \n",
       "35  http://soumilshah1995.blogspot.com/2019/04/pyt...  \n",
       "36  http://soumilshah1995.blogspot.com/2019/04/bat...  \n",
       "37  http://soumilshah1995.blogspot.com/2019/03/iot...  "
      ]
     },
     "execution_count": 52,
     "metadata": {},
     "output_type": "execute_result"
    }
   ],
   "source": [
    "import pandas as pd\n",
    "\n",
    "df = pd.DataFrame(data={\n",
    "    'title':title,\n",
    "    'url':url\n",
    "}) \n",
    "\n",
    "df"
   ]
  },
  {
   "cell_type": "code",
   "execution_count": null,
   "metadata": {},
   "outputs": [],
   "source": []
  },
  {
   "cell_type": "code",
   "execution_count": null,
   "metadata": {},
   "outputs": [],
   "source": []
  }
 ],
 "metadata": {
  "kernelspec": {
   "display_name": "Python 3",
   "language": "python",
   "name": "python3"
  },
  "language_info": {
   "codemirror_mode": {
    "name": "ipython",
    "version": 3
   },
   "file_extension": ".py",
   "mimetype": "text/x-python",
   "name": "python",
   "nbconvert_exporter": "python",
   "pygments_lexer": "ipython3",
   "version": "3.7.3"
  }
 },
 "nbformat": 4,
 "nbformat_minor": 2
}
