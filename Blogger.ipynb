{
 "cells": [
  {
   "cell_type": "markdown",
   "metadata": {},
   "source": [
    "# Google Blogger API Tutorial"
   ]
  },
  {
   "cell_type": "markdown",
   "metadata": {},
   "source": [
    "## Soumil Nitin Shah \n",
    "Bachelor in Electronic Engineering |\n",
    "Masters in Electrical Engineering | \n",
    "Master in Computer Engineering |\n",
    "\n",
    "* Website : https://soumilshah.herokuapp.com\n",
    "* Github: https://github.com/soumilshah1995\n",
    "* Linkedin: https://www.linkedin.com/in/shah-soumil/\n",
    "* Blog: https://soumilshah1995.blogspot.com/\n",
    "* Youtube : https://www.youtube.com/channel/UC_eOodxvwS_H7x2uLQa-svw?view_as=subscriber\n",
    "* Facebook Page : https://www.facebook.com/soumilshah1995/\n",
    "* Email : shahsoumil519@gmail.com\n",
    "* projects : https://soumilshah.herokuapp.com/project\n",
    "\n",
    "\n",
    "Hello! I’m Soumil Nitin Shah, a Software and Hardware Developer based in New York City. I have completed by Bachelor in Electronic Engineering and my Double master’s in Computer and Electrical Engineering. I Develop Python Based Cross Platform Desktop Application , Webpages , Software, REST API, Database and much more I have more than 2 Years of Experience in Python"
   ]
  },
  {
   "cell_type": "markdown",
   "metadata": {},
   "source": [
    "# Step 1:"
   ]
  },
  {
   "cell_type": "markdown",
   "metadata": {},
   "source": [
    "### Import the  library"
   ]
  },
  {
   "cell_type": "code",
   "execution_count": 1,
   "metadata": {},
   "outputs": [],
   "source": [
    "import requests\n",
    "from apiclient.discovery import build"
   ]
  },
  {
   "cell_type": "markdown",
   "metadata": {},
   "source": [
    "# Step 2: "
   ]
  },
  {
   "cell_type": "markdown",
   "metadata": {},
   "source": [
    "### Get the Google API Key"
   ]
  },
  {
   "cell_type": "code",
   "execution_count": 76,
   "metadata": {},
   "outputs": [],
   "source": [
    "Key = \"YOUR KEY\"\n",
    "BlogId = \"YOUR ID\""
   ]
  },
  {
   "cell_type": "markdown",
   "metadata": {},
   "source": [
    "# Step 3: \n",
    "### Create the Google API Resource Client "
   ]
  },
  {
   "cell_type": "code",
   "execution_count": 59,
   "metadata": {},
   "outputs": [],
   "source": [
    "blog = build('blogger', 'v3', developerKey=Key)"
   ]
  },
  {
   "cell_type": "code",
   "execution_count": 16,
   "metadata": {},
   "outputs": [
    {
     "data": {
      "text/plain": [
       "googleapiclient.discovery.Resource"
      ]
     },
     "execution_count": 16,
     "metadata": {},
     "output_type": "execute_result"
    }
   ],
   "source": [
    "type(blog)"
   ]
  },
  {
   "cell_type": "markdown",
   "metadata": {},
   "source": [
    "### Methods and Attributes \n",
    "\n",
    "Doccumentation :  https://developers.google.com/blogger/docs/3.0/reference/\n",
    "\n",
    "* Blogs\n",
    "* getByUrl\n",
    "* listByUser\n",
    "\n",
    "#### Posts\n",
    "* list\n",
    "\n",
    "-------> blogId  \n",
    "----------------Retrieves a list of posts.\n",
    "\n",
    "\n",
    "\n"
   ]
  },
  {
   "cell_type": "code",
   "execution_count": 13,
   "metadata": {},
   "outputs": [],
   "source": [
    "resp = blog.blogs().get(blogId=BlogId).execute()"
   ]
  },
  {
   "cell_type": "code",
   "execution_count": 18,
   "metadata": {
    "scrolled": false
   },
   "outputs": [
    {
     "data": {
      "text/plain": [
       "{'kind': 'blogger#blog',\n",
       " 'id': '2397361725226431430',\n",
       " 'name': 'Pythonist',\n",
       " 'description': '',\n",
       " 'published': '2019-03-30T18:37:09-07:00',\n",
       " 'updated': '2019-07-28T08:14:40-07:00',\n",
       " 'url': 'http://soumilshah1995.blogspot.com/',\n",
       " 'selfLink': 'https://www.googleapis.com/blogger/v3/blogs/2397361725226431430',\n",
       " 'posts': {'totalItems': 38,\n",
       "  'selfLink': 'https://www.googleapis.com/blogger/v3/blogs/2397361725226431430/posts'},\n",
       " 'pages': {'totalItems': 0,\n",
       "  'selfLink': 'https://www.googleapis.com/blogger/v3/blogs/2397361725226431430/pages'},\n",
       " 'locale': {'language': 'en', 'country': '', 'variant': ''}}"
      ]
     },
     "execution_count": 18,
     "metadata": {},
     "output_type": "execute_result"
    }
   ],
   "source": [
    "resp"
   ]
  },
  {
   "cell_type": "markdown",
   "metadata": {},
   "source": [
    "# Post"
   ]
  },
  {
   "cell_type": "code",
   "execution_count": 67,
   "metadata": {},
   "outputs": [
    {
     "name": "stdout",
     "output_type": "stream",
     "text": [
      "Run Multiple Sci Kit Model in one Go \n",
      "Token : CgkIChjC3b_wsy0Qxuf08Zj5yKIh\n",
      "\n",
      "\n",
      "Weather Logger Bot with Python (WebScrapping/ Request/scheduling/Database)\n",
      "Token : CgkIChji64Tmqy0Qxuf08Zj5yKIh\n",
      "\n",
      "\n",
      "Machine Learning Predict Whether Patient Suffer from diabetes\n",
      "Token : CgkIChjD37P_pi0Qxuf08Zj5yKIh\n",
      "\n",
      "\n",
      " CONFIGURING GPIO PINS AS OUTPUTS - BLINKING LED\n",
      "\n",
      "\n",
      "\n",
      "\n",
      " CONFIGURING GPIO PINS AS OUTPUTS - BLINKING LED\n",
      "\n",
      "\n",
      " CONFIGURING GPIO PINS AS OUTPUTS - BLINKING LED\n",
      "\n",
      "\n",
      " CONFIGURING GPIO PINS AS OUTPUTS - BLINKING LED\n",
      "\n",
      "\n",
      " CONFIGURING GPIO PINS AS OUTPUTS - BLINKING LED\n",
      "\n",
      "\n",
      " CONFIGURING GPIO PINS AS OUTPUTS - BLINKING LED\n"
     ]
    }
   ],
   "source": [
    "resp = blog.posts().list(blogId=\"2397361725226431430\").execute()\n",
    "print(resp[\"items\"][0][\"title\"])\n",
    "token = resp[\"nextPageToken\"]\n",
    "print(\"Token :\", token)\n",
    "\n",
    "for x in range(1,10):\n",
    "    \n",
    "    try:\n",
    "        \n",
    "        print(\"\\n\")\n",
    "\n",
    "        resp = blog.posts().list(blogId=\"2397361725226431430\", pageToken=token).execute()\n",
    "        print(resp[\"items\"][0][\"title\"])\n",
    "        token = resp[\"nextPageToken\"]\n",
    "        print(\"Token :\", token)\n",
    "    except:\n",
    "        pass\n"
   ]
  },
  {
   "cell_type": "code",
   "execution_count": null,
   "metadata": {},
   "outputs": [],
   "source": []
  },
  {
   "cell_type": "code",
   "execution_count": null,
   "metadata": {},
   "outputs": [],
   "source": []
  }
 ],
 "metadata": {
  "kernelspec": {
   "display_name": "Python 3",
   "language": "python",
   "name": "python3"
  },
  "language_info": {
   "codemirror_mode": {
    "name": "ipython",
    "version": 3
   },
   "file_extension": ".py",
   "mimetype": "text/x-python",
   "name": "python",
   "nbconvert_exporter": "python",
   "pygments_lexer": "ipython3",
   "version": "3.7.3"
  }
 },
 "nbformat": 4,
 "nbformat_minor": 2
}
